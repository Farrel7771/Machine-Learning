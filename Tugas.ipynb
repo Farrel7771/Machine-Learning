{
 "cells": [
  {
   "cell_type": "markdown",
   "id": "0475305a-96c5-4562-ba6f-90632205d614",
   "metadata": {},
   "source": [
    "Soal 1"
   ]
  },
  {
   "cell_type": "markdown",
   "id": "c3500daa-3c27-4044-95e4-028ba8938fdf",
   "metadata": {},
   "source": [
    "Buatlah identitas diri menggunakan pemograman python sederhana"
   ]
  },
  {
   "cell_type": "code",
   "execution_count": 1,
   "id": "6c58e495-57be-4f48-8166-a10ddffd86d2",
   "metadata": {},
   "outputs": [
    {
     "name": "stdout",
     "output_type": "stream",
     "text": [
      "DATA DIRI\n",
      "Nama :  Farrel Muhammad Ariyo\n",
      "NIM :  20220801448\n",
      "Perkuliahan:  Machine Learning\n"
     ]
    }
   ],
   "source": [
    "#jawaban soal 1\n",
    "nama = \"Farrel Muhammad Ariyo\"\n",
    "nim = \"20220801448\"\n",
    "mata_kuliah = \"Machine Learning\"\n",
    "\n",
    "print(\"DATA DIRI\")\n",
    "print(\"Nama : \", nama)\n",
    "print(\"NIM : \", nim)\n",
    "print(\"Perkuliahan: \", mata_kuliah)"
   ]
  },
  {
   "cell_type": "markdown",
   "id": "2b986778-2656-45e3-87b0-c181124b3283",
   "metadata": {},
   "source": [
    "Soal 2"
   ]
  },
  {
   "cell_type": "markdown",
   "id": "d6428efa-e18d-4677-9c58-7343358c7c36",
   "metadata": {},
   "source": [
    "Buatlah matriksC dengan orde 2x3, dan nilai yang diberikan pada matriksC adalah sebagai berikut:"
   ]
  },
  {
   "cell_type": "markdown",
   "id": "13ad27e4-dbf3-4dcc-b917-836034e04211",
   "metadata": {},
   "source": [
    "Baris 1 Kolom 1, nilai = 1\n",
    "Baris 1 Kolom 2, nilai = 2\n",
    "Baris 1 Kolom 3, nilai = 3\n",
    "Baris 2 Kolom 1, nilai = 4\n",
    "Baris 2 Kolom 2, nilai = 5\n",
    "Baris 2 Kolom 3, nilai = 6"
   ]
  },
  {
   "cell_type": "code",
   "execution_count": 4,
   "id": "ed25eb23-c00b-4547-a37d-ef287ea4faed",
   "metadata": {},
   "outputs": [
    {
     "name": "stdout",
     "output_type": "stream",
     "text": [
      "[[1, 2, 3], [4, 5, 6]]\n"
     ]
    }
   ],
   "source": [
    "#jawaban soal2\n",
    "matriksC= [[1,2,3],[4,5,6]]\n",
    "print(matriksC)"
   ]
  },
  {
   "cell_type": "markdown",
   "id": "6398e686-7c68-4ce5-8122-c2ef9582574f",
   "metadata": {},
   "source": [
    "Soal 3"
   ]
  },
  {
   "cell_type": "markdown",
   "id": "9ac62b75-220d-4bfc-a939-eea678083bff",
   "metadata": {},
   "source": [
    "Buatlah matriks dengan orde 3x2, dengan nilai adalah:"
   ]
  },
  {
   "cell_type": "markdown",
   "id": "c8f71064-dbda-4217-9a5e-cd84fc31547c",
   "metadata": {},
   "source": [
    "Baris 1 Kolom 1, nilai = 2\n",
    "Baris 1 Kolom 2, nilai = 2\n",
    "Baris 2 Kolom 1, nilai = 2\n",
    "Baris 2 Kolom 2, nilai = 2\n",
    "Baris 3 Kolom 1, nilai = 2\n",
    "Baris 3 Kolom 2, nilai = 2"
   ]
  },
  {
   "cell_type": "code",
   "execution_count": 5,
   "id": "95a1f2cc-2b07-4447-a426-d718c5330952",
   "metadata": {},
   "outputs": [
    {
     "name": "stdout",
     "output_type": "stream",
     "text": [
      "[[2, 2], [2, 2], [2, 2]]\n"
     ]
    }
   ],
   "source": [
    "#jawaban soal 3\n",
    "matriks = [[2,2],[2,2],[2,2]]\n",
    "print(matriks)\n"
   ]
  },
  {
   "cell_type": "markdown",
   "id": "dea21eef-f2a6-439e-9083-e859a2275d89",
   "metadata": {},
   "source": [
    "Soal 4"
   ]
  },
  {
   "cell_type": "markdown",
   "id": "2a29e57e-29b3-4729-a81d-12e3f03ce924",
   "metadata": {},
   "source": [
    "Importlah library Numpy"
   ]
  },
  {
   "cell_type": "code",
   "execution_count": 6,
   "id": "3294b82a-4eab-43d8-8d8f-cce0c0e2334e",
   "metadata": {},
   "outputs": [],
   "source": [
    "import numpy as np"
   ]
  },
  {
   "cell_type": "markdown",
   "id": "3190a02a-172a-45b8-a8a1-93325b792340",
   "metadata": {},
   "source": [
    "Soal 5"
   ]
  },
  {
   "cell_type": "markdown",
   "id": "c9eb159e-6386-42c9-a0c5-ac3f79bfca1f",
   "metadata": {},
   "source": [
    "Dengan memanfaatkan library numpy Buatlah matriks dengan menggunakan Library Numpy dengan panjang elemen adalah 32 dan matriks memiliki orde 4x8"
   ]
  },
  {
   "cell_type": "code",
   "execution_count": 7,
   "id": "604aeb97-abd5-413f-8c48-82cad94748a2",
   "metadata": {},
   "outputs": [
    {
     "name": "stdout",
     "output_type": "stream",
     "text": [
      "[[ 0  1  2  3  4  5  6  7]\n",
      " [ 8  9 10 11 12 13 14 15]\n",
      " [16 17 18 19 20 21 22 23]\n",
      " [24 25 26 27 28 29 30 31]]\n"
     ]
    }
   ],
   "source": [
    "#jawaban 5\n",
    "from numpy import *\n",
    "matriks = range(32)\n",
    "matriks = reshape(matriks, (4,8))\n",
    "print(matriks)"
   ]
  },
  {
   "cell_type": "markdown",
   "id": "fb6e0518-d6e7-4e97-b244-f266d4e92090",
   "metadata": {},
   "source": [
    "Soal 6"
   ]
  },
  {
   "cell_type": "markdown",
   "id": "bb60f624-dda5-49be-95fd-ce26437440dc",
   "metadata": {},
   "source": [
    "Buatlah matriks dengan menggunakan Library Numpy dengan orde 3x30, dan nilai elemen dimulai dari indeks 1 sampai dengan 5 secara random."
   ]
  },
  {
   "cell_type": "code",
   "execution_count": 9,
   "id": "67f6c625-2f28-456f-822d-ad8a6acd0b8b",
   "metadata": {},
   "outputs": [
    {
     "name": "stdout",
     "output_type": "stream",
     "text": [
      "[[1 3 3 4 4 1 2 3 3 3 4 4 4 2 3 2 2 1 1 1 3 3 1 3 3 4 4 1 1 1]\n",
      " [2 1 4 1 1 3 2 3 3 3 2 4 4 4 2 2 1 4 1 3 1 2 1 1 2 2 2 4 1 4]\n",
      " [1 3 3 2 1 4 3 4 2 3 4 1 3 3 1 4 1 2 2 4 4 3 2 2 4 1 1 2 2 1]]\n"
     ]
    }
   ],
   "source": [
    "#jawaban 6\n",
    "import numpy as np\n",
    "from numpy import *\n",
    "\n",
    "matriks = np.random.randint(1,5,(3,30))\n",
    "print(matriks)"
   ]
  }
 ],
 "metadata": {
  "kernelspec": {
   "display_name": "Python 3 (ipykernel)",
   "language": "python",
   "name": "python3"
  },
  "language_info": {
   "codemirror_mode": {
    "name": "ipython",
    "version": 3
   },
   "file_extension": ".py",
   "mimetype": "text/x-python",
   "name": "python",
   "nbconvert_exporter": "python",
   "pygments_lexer": "ipython3",
   "version": "3.10.6"
  }
 },
 "nbformat": 4,
 "nbformat_minor": 5
}
