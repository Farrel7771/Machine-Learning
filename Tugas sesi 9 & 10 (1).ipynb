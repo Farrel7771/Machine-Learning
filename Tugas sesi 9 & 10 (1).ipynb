{
 "cells": [
  {
   "cell_type": "markdown",
   "id": "0f218914-9684-49da-907a-4d19f7101efe",
   "metadata": {},
   "source": [
    "FARREL MUHAMMAD ARIYO\n",
    "\n",
    "20220801448\n",
    "\n",
    "TUGAS PERTEMUAN 4 MACHINE LEARNING"
   ]
  },
  {
   "cell_type": "markdown",
   "id": "2c9413a8-1f9c-468a-9ad5-847ab8ceabe8",
   "metadata": {},
   "source": [
    "SOAL 1"
   ]
  },
  {
   "cell_type": "markdown",
   "id": "9e7283f0-876e-45a4-9d1a-c8c73613c0b8",
   "metadata": {},
   "source": [
    "Bagaimana cara menggunakan model multiplelinear regression untuk membuat prediksi tunggal R&D Spend = 160000, Administration Spend = 130000, Marketing Spend = 300000 and State = California?"
   ]
  },
  {
   "cell_type": "code",
   "execution_count": 4,
   "id": "f89e5976-2091-4b3c-8e04-dd9def1b3e1c",
   "metadata": {},
   "outputs": [],
   "source": [
    "import numpy as np\n",
    "import matplotlib.pyplot as plt\n",
    "import pandas as pd"
   ]
  },
  {
   "cell_type": "markdown",
   "id": "c151a27c-b564-41d5-af97-fddd5ed809bb",
   "metadata": {},
   "source": [
    "import dataset"
   ]
  },
  {
   "cell_type": "code",
   "execution_count": null,
   "id": "2a57cd55-98bb-47bb-a28c-2c5e32d155c2",
   "metadata": {},
   "outputs": [],
   "source": [
    "dataset = pd.read_csv('C:\\Users\\ASUS\\Documents\\Dataset.csv')\n",
    "X = dataset.iloc[:, :-1].values\n",
    "y = dataset.iloc[:, -1].values"
   ]
  },
  {
   "cell_type": "markdown",
   "id": "afe754a2-8055-41b8-bcb0-bae160739380",
   "metadata": {},
   "source": [
    "print dataset"
   ]
  },
  {
   "cell_type": "code",
   "execution_count": null,
   "id": "659002fd-e3b3-4561-8187-eb5cb4a4971e",
   "metadata": {},
   "outputs": [],
   "source": [
    "dataset.head()"
   ]
  },
  {
   "attachments": {
    "b969b801-77f8-4ea1-96c3-e4e7d820e59c.png": {
     "image/png": "[encoded data removed]"
    }
   },
   "cell_type": "markdown",
   "id": "017cd243-ee4a-4ea2-a4a2-67be5e197218",
   "metadata": {},
   "source": [
    "![Screenshot 2024-07-02 013631.png](attachment:b969b801-77f8-4ea1-96c3-e4e7d820e59c.png)"
   ]
  },
  {
   "cell_type": "markdown",
   "id": "e0fefe53-914a-482a-9434-21399df04c62",
   "metadata": {},
   "source": [
    "Encoding categorical data"
   ]
  },
  {
   "cell_type": "code",
   "execution_count": null,
   "id": "3855acad-9144-4c76-8c55-04540483310c",
   "metadata": {},
   "outputs": [],
   "source": [
    "from sklearn.compose import ColumnTransformer\n",
    "from sklearn.preprocessing import OneHotEncoder\n",
    "ct = ColumnTransformer(transformers=[('encoder', OneHotEncoder(), [3])], remainder='passthrough')\n",
    "X = np.array(ct.fit_transform(X))"
   ]
  },
  {
   "cell_type": "markdown",
   "id": "917e79bb-9b8c-4d9a-91df-da57d71af210",
   "metadata": {},
   "source": [
    "Splitting the dataset into the Training set and Test set"
   ]
  },
  {
   "cell_type": "code",
   "execution_count": null,
   "id": "a45d0496-bead-4ee4-a856-b8ba8bcb6a43",
   "metadata": {},
   "outputs": [],
   "source": [
    "from sklearn.model_selection import train_test_split\n",
    "X_train, X_test, y_train, y_test = train_test_split(X, y, test_size = 0.2, random_state = 0)"
   ]
  },
  {
   "cell_type": "markdown",
   "id": "73be3113-a800-4297-ad8a-1168f653906b",
   "metadata": {},
   "source": [
    "Training the Multiple Linear Regression model on the Training set"
   ]
  },
  {
   "cell_type": "code",
   "execution_count": null,
   "id": "2148282e-2eb6-4019-a139-a76550705b64",
   "metadata": {},
   "outputs": [],
   "source": [
    "from sklearn.linear_model import LinearRegression\n",
    "regressor = LinearRegression()\n",
    "regressor.fit(X_train, y_train)"
   ]
  },
  {
   "cell_type": "markdown",
   "id": "73e5dac1-8120-4cd1-afe7-32456f6163fb",
   "metadata": {},
   "source": [
    "LinearRegression()"
   ]
  },
  {
   "cell_type": "markdown",
   "id": "38efb12c-1d1d-4844-8400-9d6c61dd6879",
   "metadata": {},
   "source": [
    "Predict Test Result"
   ]
  },
  {
   "cell_type": "code",
   "execution_count": null,
   "id": "87d8da17-a9a7-4ce9-8e8f-47475ba56ad9",
   "metadata": {},
   "outputs": [],
   "source": [
    "y_pred = regressor.predict(X_test)\n",
    "np.set_printoptions(precision=2)\n",
    "print(np.concatenate((y_pred.reshape(len(y_pred),1), y_test.reshape(len(y_test),1)),1))"
   ]
  },
  {
   "cell_type": "raw",
   "id": "a83ebfda-6f8a-42ce-819f-4a1ba3cbd717",
   "metadata": {},
   "source": [
    "[[103015.2  103282.38]\n",
    " [132582.28 144259.4 ]\n",
    " [132447.74 146121.95]\n",
    " [ 71976.1   77798.83]\n",
    " [178537.48 191050.39]\n",
    " [116161.24 105008.31]\n",
    " [ 67851.69  81229.06]\n",
    " [ 98791.73  97483.56]\n",
    " [113969.44 110352.25]\n",
    " [167921.07 166187.94]]"
   ]
  },
  {
   "cell_type": "markdown",
   "id": "40351a2a-f702-419b-97b3-7102e3c29ac2",
   "metadata": {},
   "source": [
    "JAWABAN R&D Spend = 160000, Administration Spend = 130000, Marketing Spend = 300000 and State = 'California'"
   ]
  },
  {
   "cell_type": "code",
   "execution_count": null,
   "id": "69c812cc-a41d-4698-bd89-21e7328df240",
   "metadata": {},
   "outputs": [],
   "source": [
    "print(regressor.predict([[1, 0, 0, 160000, 130000, 300000]]))"
   ]
  },
  {
   "cell_type": "raw",
   "id": "5412635a-fe45-4e61-aed0-a2b62f207467",
   "metadata": {},
   "source": [
    "[181566.92]"
   ]
  },
  {
   "cell_type": "markdown",
   "id": "a2f889bb-7def-4c57-b302-f9cb637019d7",
   "metadata": {},
   "source": [
    "SOAL 2\n",
    "\n",
    "Bagaimana cara mendapatkan persamaan regresi akhir y = b0 + b1 x1 + b2 x2 + ... dengan nilai akhir koefisien?"
   ]
  },
  {
   "cell_type": "code",
   "execution_count": null,
   "id": "08c9c98a-0640-4afd-984f-bc4fca2c7b45",
   "metadata": {},
   "outputs": [],
   "source": [
    "print(regressor.coef_)\n",
    "print(regressor.intercept_)"
   ]
  },
  {
   "cell_type": "raw",
   "id": "33ef2668-ffb3-430e-9b76-0ee93777188e",
   "metadata": {},
   "source": [
    "[ 8.66e+01 -8.73e+02  7.86e+02  7.73e-01  3.29e-02  3.66e-02]\n",
    "42467.52924856474"
   ]
  }
 ],
 "metadata": {
  "kernelspec": {
   "display_name": "Python 3 (ipykernel)",
   "language": "python",
   "name": "python3"
  },
  "language_info": {
   "codemirror_mode": {
    "name": "ipython",
    "version": 3
   },
   "file_extension": ".py",
   "mimetype": "text/x-python",
   "name": "python",
   "nbconvert_exporter": "python",
   "pygments_lexer": "ipython3",
   "version": "3.10.6"
  }
 },
 "nbformat": 4,
 "nbformat_minor": 5
}
